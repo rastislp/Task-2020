{
 "cells": [
  {
   "cell_type": "markdown",
   "metadata": {},
   "source": [
    "# Task 2020\n",
    "\n",
    "Author: Rastislav Petras G00252861\n"
   ]
  },
  {
   "cell_type": "markdown",
   "metadata": {},
   "source": [
    "----------------------------------"
   ]
  },
  {
   "cell_type": "markdown",
   "metadata": {},
   "source": [
    "## Task 1 - SQRT2\n",
    "Python function called sqrt2 that calculates and prints to the screen the square root of 2 to 100 decimal places. Code is not depending on any module from the standard library or otherwise."
   ]
  },
  {
   "cell_type": "markdown",
   "metadata": {},
   "source": [
    "----"
   ]
  },
  {
   "cell_type": "markdown",
   "metadata": {},
   "source": [
    "1.4142135623730950488016887242096980785696718753769480731766797379907324784621070388503875343276415727 is expected output of above task.[1]"
   ]
  },
  {
   "cell_type": "markdown",
   "metadata": {},
   "source": [
    "   <center><h3> Number $\\sqrt{2}$ </h3></center>"
   ]
  },
  {
   "cell_type": "markdown",
   "metadata": {},
   "source": [
    "The square root of 2, or the one-half power of 2, written in mathematics as ${\\displaystyle {\\sqrt {2}}}$ or ${\\displaystyle 2^{1/2}}$, is the positive algebraic number that, when multiplied by itself, equals the number 2.Technically, it must be called the principal square root of 2, to distinguish it from the negative number with the same property.\n",
    "Geometrically, the square root of 2 is the length of a diagonal across a square with sides of one unit of length; this follows from the Pythagorean theorem. It was probably the first number known to be irrational. The fraction \n",
    "99\n",
    "/\n",
    "70\n",
    " (≈ 1.4142857) is sometimes used as a good rational approximation with a reasonably small denominator."
   ]
  },
  {
   "cell_type": "markdown",
   "metadata": {},
   "source": [
    "Defined function of square root of 2 with precision of two decimal places. Condition in while loop define how accurate results is going to be. [2]"
   ]
  },
  {
   "cell_type": "code",
   "execution_count": 1,
   "metadata": {},
   "outputs": [],
   "source": [
    "def sqrt (x):\n",
    "    z=x/2\n",
    "    while abs(x-(z*z))>0.01:\n",
    "        z-=(z*z-x)/(2*z)\n",
    "    return z    "
   ]
  },
  {
   "cell_type": "markdown",
   "metadata": {},
   "source": [
    "Calling a function square root of 2 "
   ]
  },
  {
   "cell_type": "code",
   "execution_count": 2,
   "metadata": {},
   "outputs": [
    {
     "data": {
      "text/plain": [
       "1.4166666666666667"
      ]
     },
     "execution_count": 2,
     "metadata": {},
     "output_type": "execute_result"
    }
   ],
   "source": [
    "sqrt(2)\n"
   ]
  },
  {
   "cell_type": "markdown",
   "metadata": {},
   "source": [
    "Defining of power function to calculate greater precision. [3]\n",
    "\n"
   ]
  },
  {
   "cell_type": "code",
   "execution_count": 3,
   "metadata": {},
   "outputs": [],
   "source": [
    "def pow(a,b): \n",
    "    if(b==0): \n",
    "        return 1\n",
    "          \n",
    "    answer=a \n",
    "    increment=a \n",
    "      \n",
    "    for i in range(1,b): \n",
    "        for j in range (1,a): \n",
    "            answer+=increment \n",
    "        increment=answer \n",
    "    return answer "
   ]
  },
  {
   "cell_type": "markdown",
   "metadata": {},
   "source": [
    "Calling a function pow that produce 1/10<sup>100</sup> precision"
   ]
  },
  {
   "cell_type": "code",
   "execution_count": 4,
   "metadata": {},
   "outputs": [
    {
     "data": {
      "text/plain": [
       "1e-100"
      ]
     },
     "execution_count": 4,
     "metadata": {},
     "output_type": "execute_result"
    }
   ],
   "source": [
    "1/pow(10,100)"
   ]
  },
  {
   "cell_type": "markdown",
   "metadata": {},
   "source": [
    "Embeding one function within other should produce result of $\\sqrt{2}$ with precision to 1e-100."
   ]
  },
  {
   "cell_type": "code",
   "execution_count": 5,
   "metadata": {},
   "outputs": [],
   "source": [
    "def pow(a,b): \n",
    "    if(b==0): \n",
    "        return 1\n",
    "          \n",
    "    answer=a \n",
    "    increment=a \n",
    "      \n",
    "    for i in range(1,b): \n",
    "        for j in range (1,a): \n",
    "            answer+=increment \n",
    "        increment=answer \n",
    "    return answer \n",
    "\n",
    "temp = 1/pow(10,100) \n",
    "\n",
    "def sqrt (x):\n",
    "    z=x/2\n",
    "    while abs(x-(z*z))>temp:\n",
    "        z-=(z*z-x)/(2*z)\n",
    "    return z  "
   ]
  },
  {
   "cell_type": "markdown",
   "metadata": {},
   "source": [
    "Despite several hours of researching I was unable to obtain precise result greater than 15 decimal places."
   ]
  },
  {
   "cell_type": "code",
   "execution_count": 6,
   "metadata": {},
   "outputs": [
    {
     "data": {
      "text/plain": [
       "1.4142135623730951"
      ]
     },
     "execution_count": 6,
     "metadata": {},
     "output_type": "execute_result"
    }
   ],
   "source": [
    "def pow(a,b): \n",
    "    if(b==0): \n",
    "        return 1\n",
    "          \n",
    "    answer=a \n",
    "    increment=a \n",
    "      \n",
    "    for i in range(1,b): \n",
    "        for j in range (1,a): \n",
    "            answer+=increment \n",
    "        increment=answer \n",
    "    return answer \n",
    "\n",
    "temp = 1/pow(10,15) \n",
    "\n",
    "def sqrt (x):\n",
    "    z=x/2\n",
    "    while abs(x-(z*z))>temp:\n",
    "        z-=(z*z-x)/(2*z)\n",
    "    return z  \n",
    "\n",
    "sqrt(2)\n"
   ]
  },
  {
   "cell_type": "markdown",
   "metadata": {},
   "source": [
    "### Conclusion"
   ]
  },
  {
   "cell_type": "markdown",
   "metadata": {},
   "source": [
    "Main focus of above task after learning of square root of 2 was substitute while loop condition with value of 1e-100.I tried several approaches based on programming and mathematical grounds to only found out that its only good as manually input 10e-15.  Solving  secondary issue took most of my focus from underlying problem.  \n"
   ]
  },
  {
   "cell_type": "markdown",
   "metadata": {},
   "source": [
    "### References"
   ]
  },
  {
   "cell_type": "markdown",
   "metadata": {},
   "source": [
    "[1] Nemiroff, T., 2020. The Square Root Of 2 By Jerry T. Bonnell And Robert J. Nemiroff. [online] Project Gutenberg. Available at: <https://www.gutenberg.org/ebooks/129> [Accessed 2 November 2020].\n",
    "\n",
    "[2] Tour.golang.org. 2020. A Tour Of Go. [online] Available at: <https://tour.golang.org/flowcontrol/8> [Accessed 2 November 2020].\n",
    "\n",
    "[3] GeeksforGeeks. 2020. Write You Own Power Without Using Multiplication(*) And Division(/) Operators - Geeksforgeeks. [online] Available at: <https://www.geeksforgeeks.org/write-you-own-power-without-using-multiplication-and-division/> [Accessed 2 November 2020]."
   ]
  },
  {
   "cell_type": "markdown",
   "metadata": {},
   "source": [
    "------"
   ]
  },
  {
   "cell_type": "markdown",
   "metadata": {},
   "source": [
    "## Task 2 - Chi_squared_test\n",
    "\n",
    " Use **scipy.stats** to verify Chi-squared value of table below is approximately **24.6** and calculate the associated p value.\n",
    "  \n",
    " ![Image of table](https://github.com/rastislp/Task-2020/blob/main/Images/chi_squared_table.PNG?raw=true)\n",
    "\n"
   ]
  },
  {
   "cell_type": "markdown",
   "metadata": {},
   "source": [
    "----"
   ]
  },
  {
   "cell_type": "markdown",
   "metadata": {},
   "source": [
    "### Chi-squared test"
   ]
  },
  {
   "cell_type": "markdown",
   "metadata": {},
   "source": [
    "A chi-squared test, also written as χ2 test, is a statistical hypothesis test that is valid to perform when the test statistic is chi-squared distributed under the null hypothesis, specifically Pearson's chi-squared test and variants thereof. Pearson's chi-squared test is used to determine whether there is a statistically significant difference between the expected frequencies and the observed frequencies in one or more categories of a contingency table.\n"
   ]
  },
  {
   "cell_type": "markdown",
   "metadata": {},
   "source": [
    "https://docs.scipy.org/doc/scipy/reference/generated/scipy.stats.chi2_contingency.html"
   ]
  },
  {
   "cell_type": "markdown",
   "metadata": {},
   "source": []
  }
 ],
 "metadata": {
  "kernelspec": {
   "display_name": "Python 3",
   "language": "python",
   "name": "python3"
  },
  "language_info": {
   "codemirror_mode": {
    "name": "ipython",
    "version": 3
   },
   "file_extension": ".py",
   "mimetype": "text/x-python",
   "name": "python",
   "nbconvert_exporter": "python",
   "pygments_lexer": "ipython3",
   "version": "3.7.4"
  }
 },
 "nbformat": 4,
 "nbformat_minor": 2
}
