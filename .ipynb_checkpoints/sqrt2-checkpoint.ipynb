{
 "cells": [
  {
   "cell_type": "markdown",
   "metadata": {},
   "source": [
    "# Task 2020\n",
    "\n",
    "Author: Rastislav Petras G00252861\n"
   ]
  },
  {
   "cell_type": "markdown",
   "metadata": {},
   "source": [
    "----------------------------------"
   ]
  },
  {
   "cell_type": "markdown",
   "metadata": {},
   "source": [
    "## Task 1 - SQRT2\n",
    "Python function called sqrt2 that calculates and prints to the screen the square root of 2 to 100 decimal places. Code is not depending on any module from the standard library or otherwise."
   ]
  },
  {
   "cell_type": "markdown",
   "metadata": {},
   "source": [
    "----"
   ]
  },
  {
   "cell_type": "markdown",
   "metadata": {},
   "source": [
    "   <center><h3> Number $\\sqrt{2}$ </h3></center>"
   ]
  },
  {
   "cell_type": "markdown",
   "metadata": {},
   "source": [
    "The square root of 2, or the one-half power of 2, written in mathematics as ${\\displaystyle {\\sqrt {2}}}$ or ${\\displaystyle 2^{1/2}}$, is the positive algebraic number that, when multiplied by itself, equals the number 2.Technically, it must be called the principal square root of 2, to distinguish it from the negative number with the same property.\n",
    "Geometrically, the square root of 2 is the length of a diagonal across a square with sides of one unit of length; this follows from the Pythagorean theorem. It was probably the first number known to be irrational. The fraction \n",
    "99\n",
    "/\n",
    "70\n",
    " (≈ 1.4142857) is sometimes used as a good rational approximation with a reasonably small denominator."
   ]
  },
  {
   "cell_type": "code",
   "execution_count": 1,
   "metadata": {},
   "outputs": [],
   "source": [
    "def sqrt (x):\n",
    "    z=x/2\n",
    "    while abs(x-(z*z))>0.0001:\n",
    "        z-=(z*z-x)/(2*z)\n",
    "    return z    "
   ]
  },
  {
   "cell_type": "code",
   "execution_count": 2,
   "metadata": {},
   "outputs": [
    {
     "data": {
      "text/plain": [
       "1.4142156862745099"
      ]
     },
     "execution_count": 2,
     "metadata": {},
     "output_type": "execute_result"
    }
   ],
   "source": [
    "sqrt(2)"
   ]
  },
  {
   "cell_type": "code",
   "execution_count": null,
   "metadata": {},
   "outputs": [],
   "source": []
  },
  {
   "cell_type": "code",
   "execution_count": null,
   "metadata": {},
   "outputs": [],
   "source": []
  }
 ],
 "metadata": {
  "kernelspec": {
   "display_name": "Python 3",
   "language": "python",
   "name": "python3"
  },
  "language_info": {
   "codemirror_mode": {
    "name": "ipython",
    "version": 3
   },
   "file_extension": ".py",
   "mimetype": "text/x-python",
   "name": "python",
   "nbconvert_exporter": "python",
   "pygments_lexer": "ipython3",
   "version": "3.7.4"
  }
 },
 "nbformat": 4,
 "nbformat_minor": 2
}
