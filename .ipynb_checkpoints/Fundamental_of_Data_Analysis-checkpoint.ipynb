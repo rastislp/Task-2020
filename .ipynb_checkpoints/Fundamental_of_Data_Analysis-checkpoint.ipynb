{
 "cells": [
  {
   "cell_type": "markdown",
   "metadata": {},
   "source": [
    "# Task 2020\n",
    "\n",
    "Author: Rastislav Petras G00252861\n"
   ]
  },
  {
   "cell_type": "markdown",
   "metadata": {},
   "source": [
    "----"
   ]
  },
  {
   "cell_type": "markdown",
   "metadata": {},
   "source": [
    "## Task 1 - Counts\n",
    "Python function called counts that takes a list as input and returns a dictionary of unique items in the list as keys and the number of times each item appears as values.Your code should not depend on any module from the standard library or otherwise."
   ]
  },
  {
   "cell_type": "markdown",
   "metadata": {},
   "source": [
    "**Example**  So, the input ['A', 'A', 'B', 'C', 'A']should have output {'A': 3, 'B': 1, 'C': 1}"
   ]
  },
  {
   "cell_type": "markdown",
   "metadata": {},
   "source": [
    "----"
   ]
  },
  {
   "cell_type": "markdown",
   "metadata": {},
   "source": [
    "Approach I took is append all strings or characters into single string than break string into single elements and perform a count function."
   ]
  },
  {
   "cell_type": "markdown",
   "metadata": {},
   "source": [
    "### Method: Traversal of list\n",
    "\n",
    "Initialize an empty string at the beginning. Traverse in the list of characters, for every index add character to the initial string. After complete traversal, print the string which has been added with every character.[1]"
   ]
  },
  {
   "cell_type": "code",
   "execution_count": 1,
   "metadata": {},
   "outputs": [],
   "source": [
    "def convert(s): \n",
    "  \n",
    "    # initialization of string to \"\" \n",
    "    new = \"\" \n",
    "  \n",
    "    # traverse in the string  \n",
    "    for x in s: \n",
    "        new += x  \n",
    "  \n",
    "    # return string  \n",
    "    return new \n",
    "      "
   ]
  },
  {
   "cell_type": "code",
   "execution_count": 2,
   "metadata": {},
   "outputs": [
    {
     "data": {
      "text/plain": [
       "'Fundamental of Data Analysis 2020 @ & @'"
      ]
     },
     "execution_count": 2,
     "metadata": {},
     "output_type": "execute_result"
    }
   ],
   "source": [
    "s = ['Fun', 'da', 'm', 'e', 'ntal', ' ', 'of', ' Dat', 'a', ' A', 'na', 'lysis',' ', '202', '0', ' ', '@ ', '& @'] \n",
    "convert(s)    "
   ]
  },
  {
   "cell_type": "markdown",
   "metadata": {},
   "source": [
    "Once single string is created we can perform following operation. [2][3] "
   ]
  },
  {
   "cell_type": "code",
   "execution_count": 3,
   "metadata": {},
   "outputs": [
    {
     "name": "stdout",
     "output_type": "stream",
     "text": [
      "{'F': 1, 'u': 1, 'n': 3, 'd': 1, 'a': 5, 'm': 1, 'e': 1, 't': 2, 'l': 2, ' ': 7, 'o': 1, 'f': 1, 'D': 1, 'A': 1, 'y': 1, 's': 2, 'i': 1, '2': 2, '0': 2, '@': 2, '&': 1}\n"
     ]
    }
   ],
   "source": [
    "#declare a string\n",
    "my = convert(s)\n",
    "\n",
    "#create a new dictionary.\n",
    "d={}\n",
    "\n",
    "# search through every element and increase count once found\n",
    "for l in my:\n",
    "        d[l] = d.get(l,0) + 1 \n",
    "        \n",
    "# return list        \n",
    "print (d)"
   ]
  },
  {
   "cell_type": "markdown",
   "metadata": {},
   "source": [
    "### Conclusion"
   ]
  },
  {
   "cell_type": "markdown",
   "metadata": {},
   "source": [
    "Aim was to to isolate string as a string itself and perform count. I have tried another approach with very little succes. However, using method above would perform count of all elements within a list. Its also case sensitive."
   ]
  },
  {
   "cell_type": "markdown",
   "metadata": {},
   "source": [
    "### References"
   ]
  },
  {
   "cell_type": "markdown",
   "metadata": {},
   "source": [
    "[1] GeeksforGeeks. 2020. Python | Convert A List Of Characters Into A String - Geeksforgeeks. [online] Available at: <https://www.geeksforgeeks.org/python-convert-list-characters-string/> [Accessed 2 November 2020].\n",
    "\n",
    "[2] How to create the built-in function count, w. and N, H., 2020. How To Create The Built-In Function Count, Without Using It. Python. [online] Stack Overflow. Available at: <https://stackoverflow.com/questions/26646951/how-to-create-the-built-in-function-count-without-using-it-python> [Accessed 2 November 2020].\n",
    "\n",
    "[3] Effbot.org. 2020. An Introduction To Python Lists. [online] Available at: <https://effbot.org/zone/python-list.htm> [Accessed 2 November 2020]."
   ]
  },
  {
   "cell_type": "markdown",
   "metadata": {},
   "source": [
    "---"
   ]
  },
  {
   "cell_type": "markdown",
   "metadata": {},
   "source": [
    "## Task 2 -  Dicerolls"
   ]
  },
  {
   "cell_type": "markdown",
   "metadata": {},
   "source": [
    "Python function called dicerolls that simulates rolling dice. Your function should take two parameters: the number of dice k and the number of times to roll the dice n. The function should simulate randomly rolling k dice n times, keeping track of each total face value. It should then return a dictionary with the number of times each possible total face value occurred."
   ]
  },
  {
   "cell_type": "markdown",
   "metadata": {},
   "source": [
    "**Example** calling the function as diceroll(k=2, n=1000) should return a dictionary like:\n",
    "{2:19,3:50,4:82,5:112,6:135,7:174,8:133,9:114,10:75,11:70,12:36}"
   ]
  },
  {
   "cell_type": "markdown",
   "metadata": {},
   "source": [
    "----"
   ]
  },
  {
   "cell_type": "markdown",
   "metadata": {},
   "source": [
    "We are going to work with a **Random** library "
   ]
  },
  {
   "cell_type": "code",
   "execution_count": 4,
   "metadata": {},
   "outputs": [],
   "source": [
    "import random"
   ]
  },
  {
   "cell_type": "markdown",
   "metadata": {},
   "source": [
    "Values of dice rolls are as follow: 1,2,3,4,5 and 6. These could be declared as variables or array. For purpouse of this declaration i am using function randrange with first value inclusive and last value exclusive and step 1"
   ]
  },
  {
   "cell_type": "code",
   "execution_count": 5,
   "metadata": {},
   "outputs": [
    {
     "data": {
      "text/plain": [
       "2"
      ]
     },
     "execution_count": 5,
     "metadata": {},
     "output_type": "execute_result"
    }
   ],
   "source": [
    "values = random.randrange(1, 7, 1)\n",
    "values # generated number between 1 and 6"
   ]
  },
  {
   "cell_type": "markdown",
   "metadata": {},
   "source": [
    "Now we try to sum face value of single dice thrown **n** times "
   ]
  },
  {
   "cell_type": "code",
   "execution_count": 6,
   "metadata": {},
   "outputs": [
    {
     "data": {
      "text/plain": [
       "7"
      ]
     },
     "execution_count": 6,
     "metadata": {},
     "output_type": "execute_result"
    }
   ],
   "source": [
    "def get_sum_of_n_rolls(n):\n",
    "    sum = 0\n",
    "    for i in range(n):\n",
    "        sum += random.randrange(1, 7, 1)\n",
    "    return sum\n",
    "get_sum_of_n_rolls(3) # in this case 3 times"
   ]
  },
  {
   "cell_type": "markdown",
   "metadata": {},
   "source": [
    "function should take two parameters: the number of dice **k** and the number of times to roll the dice **n**."
   ]
  },
  {
   "cell_type": "code",
   "execution_count": 7,
   "metadata": {},
   "outputs": [],
   "source": [
    "def diceroll(k, n):\n",
    "    rolls = [get_sum_of_n_rolls(k) for _ in range(n)]   \n",
    "    data = [     ] #\n",
    "    for i in range(k, k * 6 + 1):\n",
    "        data.append(rolls.count(i))\n",
    "    print([i for i in range(k, k * 6 + 1)], data)"
   ]
  },
  {
   "cell_type": "markdown",
   "metadata": {},
   "source": [
    "Calling a function with parameters **k** and  **n**."
   ]
  },
  {
   "cell_type": "code",
   "execution_count": 8,
   "metadata": {},
   "outputs": [
    {
     "name": "stdout",
     "output_type": "stream",
     "text": [
      "[2, 3, 4, 5, 6, 7, 8, 9, 10, 11, 12] [0, 2, 3, 1, 1, 0, 1, 0, 1, 1, 0]\n"
     ]
    }
   ],
   "source": [
    "diceroll(2,10)"
   ]
  },
  {
   "cell_type": "markdown",
   "metadata": {},
   "source": [
    " **Matplotlib** and **Pylab** library used for extra material to plot result."
   ]
  },
  {
   "cell_type": "code",
   "execution_count": 9,
   "metadata": {},
   "outputs": [
    {
     "name": "stdout",
     "output_type": "stream",
     "text": [
      "[2, 3, 4, 5, 6, 7, 8, 9, 10, 11, 12] [4, 7, 6, 14, 16, 14, 15, 8, 12, 3, 1]\n"
     ]
    },
    {
     "data": {
      "image/png": "[encoded data removed]",
      "text/plain": [
       "<Figure size 1152x648 with 1 Axes>"
      ]
     },
     "metadata": {
      "needs_background": "light"
     },
     "output_type": "display_data"
    }
   ],
   "source": [
    "from matplotlib import pyplot as plt\n",
    "from pylab import rcParams\n",
    "%matplotlib inline\n",
    "\n",
    "def get_sum_of_n_rolls(n):\n",
    "    sum = 0\n",
    "    for i in range(n):\n",
    "        sum += random.randrange(1, 7, 1)\n",
    "    return sum\n",
    "get_sum_of_n_rolls(3) # in this case 3 times\n",
    "\n",
    "k=2\n",
    "n=100\n",
    "rolls = [get_sum_of_n_rolls(k) for _ in range(n)]   \n",
    "data = [     ] #\n",
    "for i in range(k, k * 6 + 1):\n",
    "    data.append(rolls.count(i))\n",
    "print([i for i in range(k, k * 6 + 1)], data)\n",
    "\n",
    "rcParams['figure.figsize'] = 16, 9\n",
    "plt.gca().yaxis.grid(True)\n",
    "plt.xlabel(\"Sum of \" + str(k) + \" rolls\")\n",
    "plt.ylabel(\"Count\")\n",
    "plt.bar([i for i in range(k, k * 6 + 1)], data)\n",
    "plt.show()"
   ]
  },
  {
   "cell_type": "markdown",
   "metadata": {},
   "source": [
    "### Conclusion"
   ]
  },
  {
   "cell_type": "markdown",
   "metadata": {},
   "source": [
    "I have a researched and tried 2 other apporoaches of building a function,however there where only some segments working independently but not together. I still have enjoy above task but needs to mention that many times i came across perception that segments of code are working or running just to realize that Kernel needed to be reset and run again."
   ]
  },
  {
   "cell_type": "markdown",
   "metadata": {},
   "source": [
    "### References"
   ]
  },
  {
   "cell_type": "markdown",
   "metadata": {},
   "source": [
    "Python, S., Heath, H., Haugh, P. and Kumar, V., 2020. Sum Of (N) Dice In Python. [online] Stack Overflow. Available at: <https://stackoverflow.com/questions/41267131/sum-of-n-dice-in-python> [Accessed 25 November 2020]."
   ]
  },
  {
   "cell_type": "markdown",
   "metadata": {},
   "source": [
    "Theflyingkeyboard.net. 2020. Python Gaussian Distribution Dice Rolls | Theflyingkeyboard. [online] Available at: <http://theflyingkeyboard.net/algorithms/python-gaussian-distribution-dice-rolls/> [Accessed 25 November 2020]."
   ]
  },
  {
   "cell_type": "markdown",
   "metadata": {},
   "source": [
    "https://www.xspdf.com/resolution/52572593.html"
   ]
  },
  {
   "cell_type": "markdown",
   "metadata": {},
   "source": [
    "## Task 3 - Binomial distribution\n",
    "\n",
    "The numpy.random.binomial function can be used to simulate flipping a coin with a 50/50 chance of heads or tails. Interestingly, if a coin is flipped many times then the number of heads is well approximated by a bell-shaped curve. For instance, if we flip a coin 100 times in a row the chance of getting 50 heads is relatively high, the chances of getting 0 or 100 heads is relatively low, and the chances of getting any other number of heads decreases as you move away from 50 in either direction towards 0 or 100.\n",
    "\n",
    "Write some python code that\n",
    "simulates flipping a coin 100 times. Then run this code 1,000 times, keeping track\n",
    "of the number of heads in each of the 1,000 simulations. Select an appropriate\n",
    "plot to depict the resulting list of 1,000 numbers, showing that it roughly follows\n",
    "a bell-shaped curve. "
   ]
  },
  {
   "cell_type": "markdown",
   "metadata": {},
   "source": [
    "---"
   ]
  },
  {
   "cell_type": "markdown",
   "metadata": {},
   "source": [
    "Binomial distribution is representative of the probability, p of a series of 'successes' in a number n of trials in an experiment which can have two possible outcomes ('pass' or 'fail'). The probability density for the binomial distribution calculates as follow:"
   ]
  },
  {
   "cell_type": "markdown",
   "metadata": {},
   "source": [
    "![Image of formula to calculate binomial distribution](https://github.com/rastislp/Programming_for_Data_Analysis/blob/main/images/binomial.PNG?raw=true)"
   ]
  },
  {
   "cell_type": "markdown",
   "metadata": {},
   "source": [
    "A three assumptions needs to be fullfiled for experiment to be considered binomial:\n",
    "\n",
    "* The experiment has two possible outcomes \n",
    "* The trials in the experiment are independent\n",
    "* The probability of a success in each trial is constant\n",
    "\n",
    "Two important parameters are p (propability parameter) and n (number that task is repeated). Because coin has 2 sides \"head\" and \"tail\" and therfore only two possible outcomes our variable **p** would be defined as 0.5 . Task is requiring to repeat flip a coin 100 times which represents variable **n**. Also there needs to be aggrement whether outcome represents a **head** or **tail**. For scope of this project we declare that outcome of below function is related to flipping heads."
   ]
  },
  {
   "cell_type": "markdown",
   "metadata": {},
   "source": [
    "To start programming we need to import **numpy** and **seaborn** libraries."
   ]
  },
  {
   "cell_type": "code",
   "execution_count": 10,
   "metadata": {},
   "outputs": [],
   "source": [
    "import numpy as np\n",
    "import seaborn as sns"
   ]
  },
  {
   "cell_type": "markdown",
   "metadata": {},
   "source": [
    "To perform all trials within a single experiment i use binomial routine that is part of random module of numpy library.  "
   ]
  },
  {
   "cell_type": "code",
   "execution_count": 11,
   "metadata": {},
   "outputs": [
    {
     "name": "stdout",
     "output_type": "stream",
     "text": [
      "After coin has been flipped 100 times,head has been seen 49 times.\n"
     ]
    }
   ],
   "source": [
    "# number of trials, probability of each trial\n",
    "n, p = 100, .5  \n",
    "# call function with parameters\n",
    "flip_the_coin = np.random.binomial(n, p)\n",
    "# result of flipping a coin 10 times, tested 100 times.\n",
    "print(\"After coin has been flipped\",n, \"times,head has been seen\",flip_the_coin,\"times.\")"
   ]
  },
  {
   "cell_type": "markdown",
   "metadata": {},
   "source": [
    "Time to repeat same experiment again but 1000 times."
   ]
  },
  {
   "cell_type": "code",
   "execution_count": 12,
   "metadata": {},
   "outputs": [],
   "source": [
    "# number of trials, probability of each trial\n",
    "n, p ,t= 100, .5 ,1000 \n",
    "# call function with parameters\n",
    "flip_the_coin = np.random.binomial(n, p, t)\n",
    "# result of flipping a coin 10 times, tested 1000 times."
   ]
  },
  {
   "cell_type": "markdown",
   "metadata": {},
   "source": [
    "Below are 1000 values that represents how many times result of 100 flips end up with a head."
   ]
  },
  {
   "cell_type": "code",
   "execution_count": 13,
   "metadata": {},
   "outputs": [
    {
     "data": {
      "text/plain": [
       "array([53, 51, 44, 48, 49, 53, 37, 58, 45, 54, 43, 50, 47, 42, 41, 55, 49,\n",
       "       51, 47, 47, 57, 49, 47, 48, 40, 41, 55, 46, 59, 50, 50, 44, 43, 42,\n",
       "       44, 56, 46, 33, 55, 55, 46, 54, 51, 46, 55, 48, 57, 48, 57, 55, 47,\n",
       "       53, 50, 55, 54, 53, 46, 44, 49, 53, 50, 57, 55, 45, 50, 48, 43, 55,\n",
       "       58, 50, 48, 47, 58, 49, 50, 44, 44, 52, 46, 48, 49, 52, 45, 53, 47,\n",
       "       52, 40, 47, 48, 51, 51, 46, 51, 62, 44, 50, 60, 41, 55, 54, 53, 45,\n",
       "       55, 62, 52, 45, 49, 52, 54, 55, 51, 50, 53, 61, 51, 48, 41, 53, 48,\n",
       "       50, 45, 54, 48, 51, 44, 56, 48, 47, 54, 50, 51, 45, 52, 52, 50, 49,\n",
       "       55, 58, 41, 46, 48, 49, 47, 54, 50, 55, 48, 56, 55, 57, 53, 52, 59,\n",
       "       50, 50, 49, 59, 43, 46, 46, 45, 41, 49, 59, 46, 40, 50, 51, 48, 48,\n",
       "       44, 48, 51, 43, 51, 52, 54, 43, 58, 55, 45, 47, 57, 55, 56, 49, 39,\n",
       "       47, 55, 58, 51, 47, 49, 56, 45, 40, 48, 48, 43, 48, 50, 54, 51, 39,\n",
       "       55, 51, 52, 51, 62, 50, 45, 54, 49, 54, 48, 49, 48, 56, 45, 45, 59,\n",
       "       53, 56, 48, 48, 43, 54, 47, 53, 52, 51, 49, 54, 53, 44, 47, 43, 49,\n",
       "       50, 49, 52, 51, 56, 57, 52, 48, 52, 52, 56, 44, 54, 53, 48, 54, 45,\n",
       "       47, 58, 56, 46, 50, 46, 51, 47, 45, 54, 44, 45, 53, 41, 56, 47, 54,\n",
       "       46, 57, 43, 55, 51, 57, 49, 45, 56, 50, 48, 48, 47, 45, 54, 46, 61,\n",
       "       53, 50, 51, 46, 42, 49, 43, 45, 54, 41, 51, 44, 47, 54, 62, 50, 46,\n",
       "       45, 43, 46, 49, 41, 59, 45, 53, 55, 51, 49, 47, 48, 56, 49, 40, 56,\n",
       "       50, 56, 42, 43, 49, 53, 45, 57, 51, 44, 58, 57, 51, 48, 49, 49, 50,\n",
       "       49, 54, 55, 52, 51, 45, 49, 50, 47, 48, 44, 46, 47, 52, 63, 52, 50,\n",
       "       49, 44, 39, 44, 48, 56, 54, 52, 52, 44, 47, 53, 48, 48, 63, 55, 43,\n",
       "       53, 50, 49, 50, 58, 51, 44, 48, 60, 47, 49, 46, 55, 48, 38, 61, 48,\n",
       "       47, 50, 47, 57, 48, 60, 52, 48, 51, 52, 45, 44, 49, 46, 42, 45, 51,\n",
       "       51, 54, 47, 57, 43, 51, 56, 41, 53, 49, 47, 52, 52, 53, 50, 44, 54,\n",
       "       43, 53, 49, 48, 45, 38, 58, 53, 49, 45, 45, 44, 51, 45, 50, 53, 52,\n",
       "       54, 53, 48, 57, 48, 45, 51, 51, 51, 51, 50, 48, 48, 50, 43, 46, 56,\n",
       "       46, 58, 57, 48, 47, 53, 48, 60, 45, 58, 44, 53, 59, 49, 53, 53, 48,\n",
       "       48, 55, 52, 49, 53, 49, 47, 45, 60, 51, 52, 50, 37, 55, 53, 39, 59,\n",
       "       51, 52, 45, 58, 49, 43, 51, 47, 47, 46, 58, 49, 54, 48, 50, 56, 59,\n",
       "       49, 47, 47, 52, 46, 47, 51, 46, 50, 43, 44, 42, 53, 47, 44, 34, 47,\n",
       "       51, 46, 57, 53, 44, 57, 53, 64, 52, 51, 49, 56, 45, 54, 55, 42, 42,\n",
       "       46, 53, 59, 45, 50, 56, 41, 58, 62, 44, 55, 49, 53, 48, 55, 53, 56,\n",
       "       52, 49, 50, 49, 50, 36, 52, 55, 45, 41, 54, 54, 47, 50, 51, 46, 46,\n",
       "       58, 52, 45, 49, 47, 54, 66, 52, 47, 51, 55, 48, 43, 43, 50, 55, 41,\n",
       "       51, 42, 54, 55, 50, 59, 49, 44, 49, 59, 51, 61, 47, 50, 55, 41, 41,\n",
       "       63, 39, 48, 60, 61, 51, 52, 53, 45, 55, 50, 51, 49, 51, 54, 58, 47,\n",
       "       42, 53, 54, 45, 53, 49, 52, 44, 36, 44, 51, 52, 47, 49, 59, 51, 56,\n",
       "       55, 50, 44, 53, 62, 50, 55, 52, 48, 61, 54, 51, 60, 50, 46, 58, 48,\n",
       "       46, 51, 55, 36, 45, 55, 57, 49, 49, 54, 61, 52, 41, 57, 47, 41, 46,\n",
       "       57, 39, 51, 53, 47, 51, 68, 48, 48, 52, 47, 45, 48, 51, 65, 42, 47,\n",
       "       47, 51, 52, 50, 55, 49, 45, 52, 46, 63, 49, 54, 58, 57, 44, 43, 52,\n",
       "       48, 50, 52, 48, 49, 48, 53, 51, 55, 46, 44, 46, 59, 45, 46, 41, 52,\n",
       "       56, 54, 48, 49, 54, 45, 51, 51, 50, 50, 49, 52, 57, 46, 57, 51, 57,\n",
       "       50, 57, 55, 49, 51, 40, 55, 53, 39, 56, 44, 47, 49, 60, 50, 52, 46,\n",
       "       52, 53, 47, 50, 43, 43, 45, 38, 44, 53, 50, 54, 49, 55, 58, 49, 47,\n",
       "       52, 47, 54, 49, 59, 45, 45, 38, 48, 44, 48, 43, 48, 47, 52, 52, 50,\n",
       "       50, 53, 53, 47, 51, 60, 52, 49, 47, 51, 55, 52, 31, 49, 58, 51, 51,\n",
       "       50, 44, 55, 48, 55, 61, 45, 53, 46, 49, 45, 52, 40, 48, 54, 51, 47,\n",
       "       52, 47, 44, 53, 53, 55, 52, 49, 50, 50, 46, 49, 45, 49, 57, 44, 48,\n",
       "       53, 56, 55, 53, 53, 55, 50, 48, 41, 58, 61, 47, 61, 50, 43, 49, 49,\n",
       "       48, 47, 47, 48, 45, 51, 56, 42, 47, 57, 49, 55, 49, 52, 47, 51, 51,\n",
       "       54, 54, 49, 55, 48, 50, 50, 47, 45, 48, 48, 56, 53, 46, 47, 56, 48,\n",
       "       57, 50, 47, 56, 51, 52, 44, 51, 51, 43, 48, 38, 50, 50, 55, 48, 46,\n",
       "       52, 48, 52, 52, 51, 52, 50, 47, 48, 52, 54, 54, 48, 48, 49, 48, 46,\n",
       "       49, 59, 50, 51, 48, 53, 54, 59, 54, 47, 52, 52, 57, 49, 50, 46, 40,\n",
       "       49, 55, 53, 44, 50, 45, 44, 54, 48, 52, 48, 41, 56, 45, 46, 51, 48,\n",
       "       54, 47, 47, 51, 58, 50, 54, 55, 55, 48, 53, 59, 53, 49, 52, 45, 56,\n",
       "       48, 55, 50, 42, 53, 57, 44, 55, 49, 50, 51, 50, 47, 49])"
      ]
     },
     "execution_count": 13,
     "metadata": {},
     "output_type": "execute_result"
    }
   ],
   "source": [
    "flip_the_coin # calling a function"
   ]
  },
  {
   "cell_type": "code",
   "execution_count": 14,
   "metadata": {},
   "outputs": [
    {
     "data": {
      "text/plain": [
       "Text(0, 0.5, 'Frequency')"
      ]
     },
     "execution_count": 14,
     "metadata": {},
     "output_type": "execute_result"
    },
    {
     "data": {
      "image/png": "[encoded data removed]",
      "text/plain": [
       "<Figure size 432x288 with 1 Axes>"
      ]
     },
     "metadata": {
      "needs_background": "light"
     },
     "output_type": "display_data"
    }
   ],
   "source": [
    "\n",
    "\n",
    "sns.distplot(flip_the_coin, color = 'g', bins=50); \n",
    "plt.title('Binomial Distribution of fliping coin 100 times with \"head\" result tested 1000 times. ')\n",
    "plt.xlabel('Number of \"Succeses\" out of 100 tials ')\n",
    "plt.ylabel('Frequency')"
   ]
  },
  {
   "cell_type": "markdown",
   "metadata": {},
   "source": [
    "Because binomial distribution function like a normal distribution that is highest at mean value, bell shape curve is exact outcome what we would be expected."
   ]
  },
  {
   "cell_type": "markdown",
   "metadata": {},
   "source": [
    "If one side of coin would have extra layer of metal attached that parameter **p** changes drammaticaly as there exist achance of landing coin towards heavy side. "
   ]
  },
  {
   "cell_type": "markdown",
   "metadata": {},
   "source": [
    "### Conclusion\n",
    "\n",
    "This task I have completed has been so far easiest due to fact that i have researched binomial distribution just few days ago while compliting asignment for Programming for Data Analysis."
   ]
  },
  {
   "cell_type": "markdown",
   "metadata": {},
   "source": [
    "### References"
   ]
  },
  {
   "cell_type": "markdown",
   "metadata": {},
   "source": [
    "En.wikipedia.org. 2020. Probability Distribution. [online] Available at: https://en.wikipedia.org/wiki/Probability_distribution [Accessed 17 November 2020]."
   ]
  },
  {
   "cell_type": "markdown",
   "metadata": {},
   "source": [
    "Kazarinoff, P., 2020. Plotting A Gaussian Normal Curve With Python And Matplotlib. [online] Python for Undergraduate Engineers. Available at: https://pythonforundergradengineers.com/plotting-normal-curve-with-python.html [Accessed 21 November 2020]."
   ]
  },
  {
   "cell_type": "markdown",
   "metadata": {},
   "source": [
    "## Task - 4"
   ]
  },
  {
   "cell_type": "code",
   "execution_count": null,
   "metadata": {},
   "outputs": [],
   "source": []
  }
 ],
 "metadata": {
  "kernelspec": {
   "display_name": "Python 3",
   "language": "python",
   "name": "python3"
  },
  "language_info": {
   "codemirror_mode": {
    "name": "ipython",
    "version": 3
   },
   "file_extension": ".py",
   "mimetype": "text/x-python",
   "name": "python",
   "nbconvert_exporter": "python",
   "pygments_lexer": "ipython3",
   "version": "3.7.4"
  }
 },
 "nbformat": 4,
 "nbformat_minor": 2
}
