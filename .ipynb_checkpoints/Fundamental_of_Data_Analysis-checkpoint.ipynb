{
 "cells": [
  {
   "cell_type": "markdown",
   "metadata": {},
   "source": [
    "# Task 2020\n",
    "\n",
    "Author: Rastislav Petras G00252861\n"
   ]
  },
  {
   "cell_type": "markdown",
   "metadata": {},
   "source": [
    "----"
   ]
  },
  {
   "cell_type": "markdown",
   "metadata": {},
   "source": [
    "## Task 1 - Counts\n",
    "Python function called counts that takes a list as input and returns a dictionary of unique items in the list as keys and the number of times each item appears as values.Your code should not depend on any module from the standard library or otherwise."
   ]
  },
  {
   "cell_type": "markdown",
   "metadata": {},
   "source": [
    "**Example**  So, the input ['A', 'A', 'B', 'C', 'A']should have output {'A': 3, 'B': 1, 'C': 1}"
   ]
  },
  {
   "cell_type": "markdown",
   "metadata": {},
   "source": [
    "----"
   ]
  },
  {
   "cell_type": "markdown",
   "metadata": {},
   "source": [
    "Approach I took is append all strings or characters into single string than break string into single elements and perform a count function."
   ]
  },
  {
   "cell_type": "markdown",
   "metadata": {},
   "source": [
    "### Method: Traversal of list\n",
    "\n",
    "Initialize an empty string at the beginning. Traverse in the list of characters, for every index add character to the initial string. After complete traversal, print the string which has been added with every character.[1]"
   ]
  },
  {
   "cell_type": "code",
   "execution_count": 2,
   "metadata": {},
   "outputs": [],
   "source": [
    "def convert(s): \n",
    "  \n",
    "    # initialization of string to \"\" \n",
    "    new = \"\" \n",
    "  \n",
    "    # traverse in the string  \n",
    "    for x in s: \n",
    "        new += x  \n",
    "  \n",
    "    # return string  \n",
    "    return new \n",
    "      "
   ]
  },
  {
   "cell_type": "code",
   "execution_count": 17,
   "metadata": {},
   "outputs": [
    {
     "data": {
      "text/plain": [
       "'Fundamental of Data Analysis 2020 @ & @'"
      ]
     },
     "execution_count": 17,
     "metadata": {},
     "output_type": "execute_result"
    }
   ],
   "source": [
    "s = ['Fun', 'da', 'm', 'e', 'ntal', ' ', 'of', ' Dat', 'a', ' A', 'na', 'lysis',' ', '202', '0', ' ', '@ ', '& @'] \n",
    "convert(s)    "
   ]
  },
  {
   "cell_type": "markdown",
   "metadata": {},
   "source": [
    "Once single string is created we can perform following operation. [2][3] "
   ]
  },
  {
   "cell_type": "code",
   "execution_count": 18,
   "metadata": {},
   "outputs": [
    {
     "name": "stdout",
     "output_type": "stream",
     "text": [
      "{'F': 1, 'u': 1, 'n': 3, 'd': 1, 'a': 5, 'm': 1, 'e': 1, 't': 2, 'l': 2, ' ': 7, 'o': 1, 'f': 1, 'D': 1, 'A': 1, 'y': 1, 's': 2, 'i': 1, '2': 2, '0': 2, '@': 2, '&': 1}\n"
     ]
    }
   ],
   "source": [
    "#declare a string\n",
    "my = convert(s)\n",
    "\n",
    "#create a new dictionary.\n",
    "d={}\n",
    "\n",
    "# search through every element and increase count once found\n",
    "for l in my:\n",
    "        d[l] = d.get(l,0) + 1 \n",
    "        \n",
    "# return list        \n",
    "print (d)"
   ]
  },
  {
   "cell_type": "markdown",
   "metadata": {},
   "source": [
    "### Conclusion"
   ]
  },
  {
   "cell_type": "markdown",
   "metadata": {},
   "source": [
    "Aim was to to isolate string as a string itself and perform count. I have tried another approach with very little succes. However, using method above would perform count of all elements within a list. Its also case sensitive."
   ]
  },
  {
   "cell_type": "markdown",
   "metadata": {},
   "source": [
    "### References"
   ]
  },
  {
   "cell_type": "markdown",
   "metadata": {},
   "source": [
    "[1] GeeksforGeeks. 2020. Python | Convert A List Of Characters Into A String - Geeksforgeeks. [online] Available at: <https://www.geeksforgeeks.org/python-convert-list-characters-string/> [Accessed 2 November 2020].\n",
    "\n",
    "[2] How to create the built-in function count, w. and N, H., 2020. How To Create The Built-In Function Count, Without Using It. Python. [online] Stack Overflow. Available at: <https://stackoverflow.com/questions/26646951/how-to-create-the-built-in-function-count-without-using-it-python> [Accessed 2 November 2020].\n",
    "\n",
    "[3] Effbot.org. 2020. An Introduction To Python Lists. [online] Available at: <https://effbot.org/zone/python-list.htm> [Accessed 2 November 2020]."
   ]
  },
  {
   "cell_type": "markdown",
   "metadata": {},
   "source": [
    "---"
   ]
  },
  {
   "cell_type": "markdown",
   "metadata": {},
   "source": [
    "## Task 2 -  Dicerolls"
   ]
  },
  {
   "cell_type": "markdown",
   "metadata": {},
   "source": [
    "Python function called dicerolls that simulates rolling dice. Your function should take two parameters: the number of dice k and the number of times to roll the dice n. The function should simulate randomly rolling k dice n times, keeping track of each total face value. It should then return a dictionary with the number of times each possible total face value occurred."
   ]
  },
  {
   "cell_type": "markdown",
   "metadata": {},
   "source": [
    "**Example** calling the function as diceroll(k=2, n=1000) should return a dictionary like:\n",
    "{2:19,3:50,4:82,5:112,6:135,7:174,8:133,9:114,10:75,11:70,12:36}"
   ]
  },
  {
   "cell_type": "markdown",
   "metadata": {},
   "source": [
    "----"
   ]
  },
  {
   "cell_type": "markdown",
   "metadata": {},
   "source": [
    "https://www.xspdf.com/resolution/52572593.html"
   ]
  }
 ],
 "metadata": {
  "kernelspec": {
   "display_name": "Python 3",
   "language": "python",
   "name": "python3"
  },
  "language_info": {
   "codemirror_mode": {
    "name": "ipython",
    "version": 3
   },
   "file_extension": ".py",
   "mimetype": "text/x-python",
   "name": "python",
   "nbconvert_exporter": "python",
   "pygments_lexer": "ipython3",
   "version": "3.7.4"
  }
 },
 "nbformat": 4,
 "nbformat_minor": 2
}
